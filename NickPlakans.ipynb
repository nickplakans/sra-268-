{
  "nbformat": 4,
  "nbformat_minor": 0,
  "metadata": {
    "colab": {
      "name": "NickPlakans",
      "provenance": [],
      "authorship_tag": "ABX9TyOoiYuGZjLxa/WYBwCvomsv",
      "include_colab_link": true
    },
    "kernelspec": {
      "name": "python3",
      "display_name": "Python 3"
    }
  },
  "cells": [
    {
      "cell_type": "markdown",
      "metadata": {
        "id": "view-in-github",
        "colab_type": "text"
      },
      "source": [
        "<a href=\"https://colab.research.google.com/github/nickplakans/sra-268-/blob/master/NickPlakans.ipynb\" target=\"_parent\"><img src=\"https://colab.research.google.com/assets/colab-badge.svg\" alt=\"Open In Colab\"/></a>"
      ]
    },
    {
      "cell_type": "markdown",
      "metadata": {
        "id": "RtvRs8jxdlQa",
        "colab_type": "text"
      },
      "source": [
        "### Temperature and Snowfall Comparison"
      ]
    },
    {
      "cell_type": "markdown",
      "metadata": {
        "id": "C-sh9YqOd1qg",
        "colab_type": "text"
      },
      "source": [
        "### Outline \n",
        "Out of the information shown on the data table, I decided to look at the comparison of the temperature data versus the amount of snowfall on any given date in order to see if there was a correlation or any specific pattern that could be noticed. The graph I predict will show an increase in snowfall as the temperature decreases because snow can only fall in colder weather."
      ]
    },
    {
      "cell_type": "markdown",
      "metadata": {
        "id": "ToEKzZHZpgZt",
        "colab_type": "text"
      },
      "source": [
        "### Sketch\n",
        "![alt text](https://raw.githubusercontent.com/nickplakans/sra-268-/master/images/IMG_0370.jpeg)"
      ]
    },
    {
      "cell_type": "markdown",
      "metadata": {
        "id": "QHfvD3_neNGV",
        "colab_type": "text"
      },
      "source": [
        "### Conclusion\n",
        "After a careful review of the data and plotting a few points onto the graph, I then noticed that there was indeed a correlation between decreasing temperature and amount of snowfall, however, it is not a direct correlation so I cannot fully say that any specific temperature ensurs snowfall. Other factors could effect it that were not included in the data table"
      ]
    }
  ]
}